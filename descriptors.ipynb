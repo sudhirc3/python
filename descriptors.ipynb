{
 "cells": [
  {
   "cell_type": "markdown",
   "metadata": {},
   "source": [
    "### Access rules for descriptor attribute 'd' when called as x.d\n",
    "(ref: https://docs.python.org/3/howto/descriptor.html) \n",
    "\n",
    "if (x is an object/instance):\n",
    "    call object.__getattribute__() (unless overwritten) and that function does the following:\n",
    "        try x.d transformed to type(x).__dict__['d'].__get__(x,type(x) (if d is a 'data' decscriptor)\n",
    "        else try x.__dict__['d'] (standard instance variable lookup which tries class and base classes chain as well) \n",
    "        else try type(x).__dict__['d'].__get__(x,type(x) (if d is a 'non-data' decscriptor)\n",
    "        else raise AttributeError and try x.__getattr__(d) if present (follows up the class and base class chain)\n",
    "elseif (x is a class):\n",
    "    call type.__getattribute__() which attempts the following:\n",
    "        try x.__dict__['d'].__get__(None,x) (follow base classes up the chain)\n",
    "        else try x.__dict__['d'] (follow base classes up the chain)\n",
    "\n",
    "for super(classB, obj).m():\n",
    "    if class A immediately follows B in B.__mro__:\n",
    "        try A.__dict__['m'].__get__(obj, B) (if 'm' is a descriptor; 'm' in this instance is a function)\n",
    "        else try A.__dict__['m'] (when m is not a descriptor)\n",
    "        else try above rules for object.__getattribute__ to locate obj.m\n",
    "        "
   ]
  },
  {
   "cell_type": "code",
   "execution_count": 2,
   "metadata": {},
   "outputs": [],
   "source": [
    "### aside ...\n",
    "class D(object):\n",
    "    def f(self,x):\n",
    "        return x\n",
    "d = D()"
   ]
  },
  {
   "cell_type": "code",
   "execution_count": 16,
   "metadata": {},
   "outputs": [
    {
     "name": "stdout",
     "output_type": "stream",
     "text": [
      "<function D.f at 0x104f819d8>\n",
      "4378335704\n",
      "<function D.f at 0x104f819d8>\n",
      "4378335704\n",
      "<bound method D.f of <__main__.D object at 0x104f829e8>>\n",
      "4377652040\n",
      "4378339816\n",
      "id of d.f.__func__ 4378335704\n",
      "4378339816\n",
      "4331865136\n",
      "<class 'method'>\n",
      "140426961062968\n",
      "4378339816\n"
     ]
    }
   ],
   "source": [
    "\n",
    "print(D.__dict__['f'])\n",
    "print(id(D.__dict__['f']))\n",
    "print(D.f)\n",
    "print(id(D.f))\n",
    "print(d.f)\n",
    "print(id(d.f))\n",
    "d\n",
    "print(id(d))\n",
    "print(f\"id of d.f.__func__ {id(d.f.__func__)}\")\n",
    "print(id(d.f.__self__))\n",
    "print(id(d.f.__class__))\n",
    "print(d.f.__class__)\n",
    "print(id(D))\n",
    "print(id(d))"
   ]
  },
  {
   "cell_type": "code",
   "execution_count": 60,
   "metadata": {},
   "outputs": [
    {
     "name": "stdout",
     "output_type": "stream",
     "text": [
      "3.6.4 |Anaconda, Inc.| (default, Jan 16 2018, 12:04:33) \n",
      "[GCC 4.2.1 Compatible Clang 4.0.1 (tags/RELEASE_401/final)]\n"
     ]
    }
   ],
   "source": [
    "# python version\n",
    "import sys\n",
    "print(sys.version)"
   ]
  },
  {
   "cell_type": "code",
   "execution_count": 29,
   "metadata": {},
   "outputs": [],
   "source": [
    "class DD:\n",
    "    def __init__(self,name):\n",
    "        self._name = name\n",
    "    \n",
    "    def __get__(self,obj,objclass = None):\n",
    "        print(f\"inside get: {self._name } -- obj: {repr(obj)} -- objclass {repr(objclass)}\")\n",
    "        return self._name\n",
    "    def __set__(self,obj,value):\n",
    "        self._name = value\n",
    "        obj[self] = value + value\n",
    "        print(f\"inside set: {self._name } -- obj: {repr(obj)} -- value {value}\")"
   ]
  },
  {
   "cell_type": "code",
   "execution_count": 30,
   "metadata": {},
   "outputs": [],
   "source": [
    "class TestClass:\n",
    "    dd = DD('bob')"
   ]
  },
  {
   "cell_type": "code",
   "execution_count": 31,
   "metadata": {},
   "outputs": [
    {
     "name": "stdout",
     "output_type": "stream",
     "text": [
      "inside get: pop -- obj: {} -- objclass None\n",
      "inside set: sage -- obj: {<__main__.DD object at 0x10cc49ef0>: 'sagesage'} -- value sage\n"
     ]
    }
   ],
   "source": [
    "dd1 = DD('pop')\n",
    "obj1 = {}\n",
    "dd1.__get__(obj1)\n",
    "dd1.__set__(obj1,'sage')"
   ]
  },
  {
   "cell_type": "code",
   "execution_count": 44,
   "metadata": {},
   "outputs": [
    {
     "data": {
      "text/plain": [
       "dict_keys([<__main__.DD object at 0x10cc49ef0>])"
      ]
     },
     "execution_count": 44,
     "metadata": {},
     "output_type": "execute_result"
    }
   ],
   "source": [
    "type(obj1)\n",
    "obj1.values()\n",
    "obj1.keys()"
   ]
  },
  {
   "cell_type": "code",
   "execution_count": 24,
   "metadata": {},
   "outputs": [],
   "source": [
    "class Parent:\n",
    "        parent1 = DD(\"parentCori\")\n",
    "\n",
    "class Child(Parent):\n",
    "        child1 = DD(\"childBasil\")"
   ]
  },
  {
   "cell_type": "code",
   "execution_count": 25,
   "metadata": {},
   "outputs": [
    {
     "name": "stdout",
     "output_type": "stream",
     "text": [
      "inside get: childBasil -- obj: <__main__.Child object at 0x1065daeb8> -- objclass <class '__main__.Child'>\n"
     ]
    },
    {
     "data": {
      "text/plain": [
       "'childBasil'"
      ]
     },
     "execution_count": 25,
     "metadata": {},
     "output_type": "execute_result"
    }
   ],
   "source": [
    "bas = Child()\n",
    "bas.child1"
   ]
  },
  {
   "cell_type": "code",
   "execution_count": 26,
   "metadata": {},
   "outputs": [
    {
     "name": "stdout",
     "output_type": "stream",
     "text": [
      "inside get: parentCori -- obj: <__main__.Child object at 0x1065daeb8> -- objclass <class '__main__.Child'>\n"
     ]
    },
    {
     "data": {
      "text/plain": [
       "'parentCori'"
      ]
     },
     "execution_count": 26,
     "metadata": {},
     "output_type": "execute_result"
    }
   ],
   "source": [
    "bas.parent1"
   ]
  },
  {
   "cell_type": "code",
   "execution_count": 27,
   "metadata": {},
   "outputs": [
    {
     "name": "stdout",
     "output_type": "stream",
     "text": [
      "inside get: childBasil -- obj: None -- objclass <class '__main__.Child'>\n"
     ]
    },
    {
     "data": {
      "text/plain": [
       "'childBasil'"
      ]
     },
     "execution_count": 27,
     "metadata": {},
     "output_type": "execute_result"
    }
   ],
   "source": [
    "Child.child1"
   ]
  },
  {
   "cell_type": "code",
   "execution_count": 28,
   "metadata": {},
   "outputs": [
    {
     "name": "stdout",
     "output_type": "stream",
     "text": [
      "inside get: parentCori -- obj: None -- objclass <class '__main__.Child'>\n"
     ]
    },
    {
     "data": {
      "text/plain": [
       "'parentCori'"
      ]
     },
     "execution_count": 28,
     "metadata": {},
     "output_type": "execute_result"
    }
   ],
   "source": [
    "Child.parent1"
   ]
  },
  {
   "cell_type": "code",
   "execution_count": 29,
   "metadata": {},
   "outputs": [
    {
     "data": {
      "text/plain": [
       "mappingproxy({'__doc__': None,\n",
       "              '__module__': '__main__',\n",
       "              'child1': <__main__.DD at 0x1065dab70>})"
      ]
     },
     "execution_count": 29,
     "metadata": {},
     "output_type": "execute_result"
    }
   ],
   "source": [
    "Child.__dict__"
   ]
  },
  {
   "cell_type": "code",
   "execution_count": 30,
   "metadata": {},
   "outputs": [
    {
     "data": {
      "text/plain": [
       "mappingproxy({'__dict__': <attribute '__dict__' of 'Parent' objects>,\n",
       "              '__doc__': None,\n",
       "              '__module__': '__main__',\n",
       "              '__weakref__': <attribute '__weakref__' of 'Parent' objects>,\n",
       "              'parent1': <__main__.DD at 0x1065dab38>})"
      ]
     },
     "execution_count": 30,
     "metadata": {},
     "output_type": "execute_result"
    }
   ],
   "source": [
    "Parent.__dict__"
   ]
  },
  {
   "cell_type": "code",
   "execution_count": 31,
   "metadata": {},
   "outputs": [
    {
     "data": {
      "text/plain": [
       "mappingproxy({'__dict__': <attribute '__dict__' of 'DD' objects>,\n",
       "              '__doc__': None,\n",
       "              '__get__': <function __main__.DD.__get__>,\n",
       "              '__init__': <function __main__.DD.__init__>,\n",
       "              '__module__': '__main__',\n",
       "              '__set__': <function __main__.DD.__set__>,\n",
       "              '__weakref__': <attribute '__weakref__' of 'DD' objects>})"
      ]
     },
     "execution_count": 31,
     "metadata": {},
     "output_type": "execute_result"
    }
   ],
   "source": [
    "DD.__dict__"
   ]
  },
  {
   "cell_type": "code",
   "execution_count": 32,
   "metadata": {},
   "outputs": [
    {
     "data": {
      "text/plain": [
       "mappingproxy({'__doc__': None,\n",
       "              '__module__': '__main__',\n",
       "              'child1': <__main__.DD at 0x1065dab70>})"
      ]
     },
     "execution_count": 32,
     "metadata": {},
     "output_type": "execute_result"
    }
   ],
   "source": [
    "bas.__class__.__dict__"
   ]
  },
  {
   "cell_type": "code",
   "execution_count": 33,
   "metadata": {},
   "outputs": [
    {
     "name": "stdout",
     "output_type": "stream",
     "text": [
      "inside set: Pepper -- obj: <__main__.Child object at 0x1065daeb8> -- value Pepper\n"
     ]
    }
   ],
   "source": [
    "bas.child1 = \"Pepper\""
   ]
  },
  {
   "cell_type": "code",
   "execution_count": 34,
   "metadata": {},
   "outputs": [
    {
     "data": {
      "text/plain": [
       "{}"
      ]
     },
     "execution_count": 34,
     "metadata": {},
     "output_type": "execute_result"
    }
   ],
   "source": [
    "bas.__dict__"
   ]
  },
  {
   "cell_type": "code",
   "execution_count": 35,
   "metadata": {},
   "outputs": [
    {
     "name": "stdout",
     "output_type": "stream",
     "text": [
      "inside get: Pepper -- obj: <__main__.Child object at 0x1065daeb8> -- objclass <class '__main__.Child'>\n"
     ]
    },
    {
     "data": {
      "text/plain": [
       "'Pepper'"
      ]
     },
     "execution_count": 35,
     "metadata": {},
     "output_type": "execute_result"
    }
   ],
   "source": [
    "bas.child1"
   ]
  },
  {
   "cell_type": "code",
   "execution_count": 36,
   "metadata": {},
   "outputs": [
    {
     "name": "stdout",
     "output_type": "stream",
     "text": [
      "inside get: Pepper -- obj: <__main__.Child object at 0x1065daeb8> -- objclass <class '__main__.Child'>\n"
     ]
    },
    {
     "data": {
      "text/plain": [
       "str"
      ]
     },
     "execution_count": 36,
     "metadata": {},
     "output_type": "execute_result"
    }
   ],
   "source": [
    "type(bas.child1)"
   ]
  },
  {
   "cell_type": "code",
   "execution_count": 37,
   "metadata": {},
   "outputs": [],
   "source": [
    "bas.__class__.child1 = \"helloWorld\""
   ]
  },
  {
   "cell_type": "code",
   "execution_count": 38,
   "metadata": {},
   "outputs": [
    {
     "data": {
      "text/plain": [
       "'helloWorld'"
      ]
     },
     "execution_count": 38,
     "metadata": {},
     "output_type": "execute_result"
    }
   ],
   "source": [
    "bas.child1"
   ]
  },
  {
   "cell_type": "code",
   "execution_count": 39,
   "metadata": {},
   "outputs": [
    {
     "data": {
      "text/plain": [
       "mappingproxy({'__doc__': None,\n",
       "              '__module__': '__main__',\n",
       "              'child1': 'helloWorld'})"
      ]
     },
     "execution_count": 39,
     "metadata": {},
     "output_type": "execute_result"
    }
   ],
   "source": [
    "bas.__class__.__dict__"
   ]
  },
  {
   "cell_type": "code",
   "execution_count": 40,
   "metadata": {},
   "outputs": [
    {
     "data": {
      "text/plain": [
       "'helloWorld'"
      ]
     },
     "execution_count": 40,
     "metadata": {},
     "output_type": "execute_result"
    }
   ],
   "source": [
    "bas.__class__.child1"
   ]
  },
  {
   "cell_type": "code",
   "execution_count": 42,
   "metadata": {},
   "outputs": [
    {
     "data": {
      "text/plain": [
       "type"
      ]
     },
     "execution_count": 42,
     "metadata": {},
     "output_type": "execute_result"
    }
   ],
   "source": [
    "bas.__class__.__class__"
   ]
  },
  {
   "cell_type": "code",
   "execution_count": 43,
   "metadata": {},
   "outputs": [
    {
     "data": {
      "text/plain": [
       "type"
      ]
     },
     "execution_count": 43,
     "metadata": {},
     "output_type": "execute_result"
    }
   ],
   "source": [
    "Child.__class__"
   ]
  },
  {
   "cell_type": "code",
   "execution_count": 44,
   "metadata": {},
   "outputs": [
    {
     "data": {
      "text/plain": [
       "__main__.Child"
      ]
     },
     "execution_count": 44,
     "metadata": {},
     "output_type": "execute_result"
    }
   ],
   "source": [
    "bas.__class__"
   ]
  },
  {
   "cell_type": "code",
   "execution_count": 45,
   "metadata": {},
   "outputs": [
    {
     "data": {
      "text/plain": [
       "type"
      ]
     },
     "execution_count": 45,
     "metadata": {},
     "output_type": "execute_result"
    }
   ],
   "source": [
    "type.__class__"
   ]
  },
  {
   "cell_type": "code",
   "execution_count": 46,
   "metadata": {},
   "outputs": [
    {
     "ename": "AttributeError",
     "evalue": "'Child' object has no attribute '__bases__'",
     "output_type": "error",
     "traceback": [
      "\u001b[0;31m---------------------------------------------------------------------------\u001b[0m",
      "\u001b[0;31mAttributeError\u001b[0m                            Traceback (most recent call last)",
      "\u001b[0;32m<ipython-input-46-b411a7cf88b6>\u001b[0m in \u001b[0;36m<module>\u001b[0;34m()\u001b[0m\n\u001b[0;32m----> 1\u001b[0;31m \u001b[0mbas\u001b[0m\u001b[0;34m.\u001b[0m\u001b[0m__bases__\u001b[0m\u001b[0;34m\u001b[0m\u001b[0m\n\u001b[0m",
      "\u001b[0;31mAttributeError\u001b[0m: 'Child' object has no attribute '__bases__'"
     ]
    }
   ],
   "source": [
    "bas.__bases__"
   ]
  },
  {
   "cell_type": "code",
   "execution_count": 47,
   "metadata": {},
   "outputs": [
    {
     "data": {
      "text/plain": [
       "(__main__.Parent,)"
      ]
     },
     "execution_count": 47,
     "metadata": {},
     "output_type": "execute_result"
    }
   ],
   "source": [
    "bas.__class__.__bases__"
   ]
  },
  {
   "cell_type": "code",
   "execution_count": 48,
   "metadata": {},
   "outputs": [
    {
     "data": {
      "text/plain": [
       "(object,)"
      ]
     },
     "execution_count": 48,
     "metadata": {},
     "output_type": "execute_result"
    }
   ],
   "source": [
    "Parent.__bases__"
   ]
  },
  {
   "cell_type": "code",
   "execution_count": 49,
   "metadata": {},
   "outputs": [
    {
     "data": {
      "text/plain": [
       "(object,)"
      ]
     },
     "execution_count": 49,
     "metadata": {},
     "output_type": "execute_result"
    }
   ],
   "source": [
    "type.__bases__"
   ]
  },
  {
   "cell_type": "code",
   "execution_count": 50,
   "metadata": {},
   "outputs": [
    {
     "name": "stdout",
     "output_type": "stream",
     "text": [
      "inside get: parentCori -- obj: None -- objclass <class '__main__.Parent'>\n"
     ]
    },
    {
     "data": {
      "text/plain": [
       "'parentCori'"
      ]
     },
     "execution_count": 50,
     "metadata": {},
     "output_type": "execute_result"
    }
   ],
   "source": [
    "Parent.parent1"
   ]
  },
  {
   "cell_type": "code",
   "execution_count": 51,
   "metadata": {},
   "outputs": [
    {
     "data": {
      "text/plain": [
       "type"
      ]
     },
     "execution_count": 51,
     "metadata": {},
     "output_type": "execute_result"
    }
   ],
   "source": [
    "Parent.__class__"
   ]
  },
  {
   "cell_type": "code",
   "execution_count": 52,
   "metadata": {},
   "outputs": [
    {
     "data": {
      "text/plain": [
       "mappingproxy({'__dict__': <attribute '__dict__' of 'Parent' objects>,\n",
       "              '__doc__': None,\n",
       "              '__module__': '__main__',\n",
       "              '__weakref__': <attribute '__weakref__' of 'Parent' objects>,\n",
       "              'parent1': <__main__.DD at 0x1065dab38>})"
      ]
     },
     "execution_count": 52,
     "metadata": {},
     "output_type": "execute_result"
    }
   ],
   "source": [
    "Parent.__dict__"
   ]
  },
  {
   "cell_type": "code",
   "execution_count": 53,
   "metadata": {},
   "outputs": [
    {
     "name": "stdout",
     "output_type": "stream",
     "text": [
      "inside get: parentCori -- obj: None -- objclass <class '__main__.Child'>\n"
     ]
    },
    {
     "data": {
      "text/plain": [
       "'parentCori'"
      ]
     },
     "execution_count": 53,
     "metadata": {},
     "output_type": "execute_result"
    }
   ],
   "source": [
    "Child.parent1"
   ]
  },
  {
   "cell_type": "code",
   "execution_count": 54,
   "metadata": {},
   "outputs": [
    {
     "data": {
      "text/plain": [
       "type"
      ]
     },
     "execution_count": 54,
     "metadata": {},
     "output_type": "execute_result"
    }
   ],
   "source": [
    "type(Child)"
   ]
  },
  {
   "cell_type": "code",
   "execution_count": 55,
   "metadata": {},
   "outputs": [
    {
     "data": {
      "text/plain": [
       "__main__.Child"
      ]
     },
     "execution_count": 55,
     "metadata": {},
     "output_type": "execute_result"
    }
   ],
   "source": [
    "type(bas)"
   ]
  },
  {
   "cell_type": "code",
   "execution_count": 57,
   "metadata": {},
   "outputs": [
    {
     "data": {
      "text/plain": [
       "__main__.Child"
      ]
     },
     "execution_count": 57,
     "metadata": {},
     "output_type": "execute_result"
    }
   ],
   "source": [
    "bas.__class__"
   ]
  },
  {
   "cell_type": "code",
   "execution_count": null,
   "metadata": {},
   "outputs": [],
   "source": []
  }
 ],
 "metadata": {
  "kernelspec": {
   "display_name": "Python 3",
   "language": "python",
   "name": "python3"
  },
  "language_info": {
   "codemirror_mode": {
    "name": "ipython",
    "version": 3
   },
   "file_extension": ".py",
   "mimetype": "text/x-python",
   "name": "python",
   "nbconvert_exporter": "python",
   "pygments_lexer": "ipython3",
   "version": "3.6.4"
  }
 },
 "nbformat": 4,
 "nbformat_minor": 2
}
